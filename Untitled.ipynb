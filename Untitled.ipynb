{
 "cells": [
  {
   "cell_type": "code",
   "execution_count": 1,
   "id": "6f576c10-d4d5-47ef-8184-0253b802ad03",
   "metadata": {},
   "outputs": [],
   "source": [
    "import pandas as pd"
   ]
  },
  {
   "cell_type": "code",
   "execution_count": 46,
   "id": "debb4edd-5ed8-49a4-93a3-e8d16b7ca60c",
   "metadata": {},
   "outputs": [],
   "source": [
    "com = pd.read_csv(\"commune.csv\")\n",
    "fiber = pd.read_csv(\"fiber.csv\")"
   ]
  },
  {
   "cell_type": "code",
   "execution_count": 53,
   "id": "556ecee2-718d-49ae-b5bb-f4276a5d96bb",
   "metadata": {},
   "outputs": [
    {
     "data": {
      "text/plain": [
       "0        01001\n",
       "1        01002\n",
       "2        01003\n",
       "3        01004\n",
       "4        01004\n",
       "         ...  \n",
       "42193    97613\n",
       "42194    97614\n",
       "42195    97615\n",
       "42196    97616\n",
       "42197    97617\n",
       "Name: COM, Length: 42198, dtype: object"
      ]
     },
     "execution_count": 53,
     "metadata": {},
     "output_type": "execute_result"
    }
   ],
   "source": [
    "com['COM']"
   ]
  },
  {
   "cell_type": "code",
   "execution_count": 58,
   "id": "0fb1a522-8282-47fc-9660-3e7415bcc7df",
   "metadata": {},
   "outputs": [
    {
     "name": "stderr",
     "output_type": "stream",
     "text": [
      "/tmp/ipykernel_6126/2874930199.py:2: SettingWithCopyWarning: \n",
      "A value is trying to be set on a copy of a slice from a DataFrame.\n",
      "Try using .loc[row_indexer,col_indexer] = value instead\n",
      "\n",
      "See the caveats in the documentation: https://pandas.pydata.org/pandas-docs/stable/user_guide/indexing.html#returning-a-view-versus-a-copy\n",
      "  com_run['COM'] = com_run['COM'].astype('int64')\n"
     ]
    }
   ],
   "source": [
    "com_run = com[com['COM'].str.contains(r'^974')]\n",
    "com_run['COM'] = com_run['COM'].astype('int64')"
   ]
  },
  {
   "cell_type": "code",
   "execution_count": 59,
   "id": "b28dfb7f-69ec-462c-b9b4-db41d55b1ddb",
   "metadata": {},
   "outputs": [],
   "source": [
    "fiber_and_commune_data = fiber.merge(com_run, how='inner', left_on='code_insee', right_on='COM')"
   ]
  },
  {
   "cell_type": "code",
   "execution_count": 61,
   "id": "09f7bd41-1430-4616-b6f3-d64381bee682",
   "metadata": {},
   "outputs": [
    {
     "data": {
      "text/plain": [
       "Index(['x', 'y', 'imb_id', 'num_voie', 'cp_no_voie', 'type_voie', 'nom_voie',\n",
       "       'batiment', 'code_insee', 'code_poste', 'nom_com', 'catg_loc_imb',\n",
       "       'imb_etat', 'pm_ref', 'pm_etat', 'code_l331', 'geom_mod', 'type_imb',\n",
       "       'date_completude', 'date_completude_manquante', 'commune', 'COM',\n",
       "       'TNCC', 'NCC', 'NCCENR', 'LIBELLE', 'DATE_DEBUT', 'DATE_FIN'],\n",
       "      dtype='object')"
      ]
     },
     "execution_count": 61,
     "metadata": {},
     "output_type": "execute_result"
    }
   ],
   "source": [
    "fiber_and_commune_data.columns"
   ]
  },
  {
   "cell_type": "code",
   "execution_count": 64,
   "id": "9d0f9c16-3ae7-44cc-9457-738b7a031e92",
   "metadata": {},
   "outputs": [
    {
     "data": {
      "text/plain": [
       "imb_etat\n",
       "deploye                    350905\n",
       "cible                       20184\n",
       "en cours de deploiement     10087\n",
       "abandonne                    3320\n",
       "signe                        1115\n",
       "raccordable demande           147\n",
       "Name: count, dtype: int64"
      ]
     },
     "execution_count": 64,
     "metadata": {},
     "output_type": "execute_result"
    }
   ],
   "source": [
    "fiber_and_commune_data['imb_etat'].value_counts()"
   ]
  },
  {
   "cell_type": "code",
   "execution_count": 70,
   "id": "f7239b80-45d3-4e6c-966c-d48dd9110231",
   "metadata": {},
   "outputs": [],
   "source": [
    "tot = fiber_and_commune_data[[\"COM\", 'imb_etat']].groupby('COM').value_counts().unstack().sum(axis=1)"
   ]
  },
  {
   "cell_type": "code",
   "execution_count": 71,
   "id": "a46a3595-2858-417a-aa23-83676834ecc7",
   "metadata": {},
   "outputs": [
    {
     "data": {
      "text/html": [
       "<div>\n",
       "<style scoped>\n",
       "    .dataframe tbody tr th:only-of-type {\n",
       "        vertical-align: middle;\n",
       "    }\n",
       "\n",
       "    .dataframe tbody tr th {\n",
       "        vertical-align: top;\n",
       "    }\n",
       "\n",
       "    .dataframe thead th {\n",
       "        text-align: right;\n",
       "    }\n",
       "</style>\n",
       "<table border=\"1\" class=\"dataframe\">\n",
       "  <thead>\n",
       "    <tr style=\"text-align: right;\">\n",
       "      <th>imb_etat</th>\n",
       "      <th>abandonne</th>\n",
       "      <th>cible</th>\n",
       "      <th>deploye</th>\n",
       "      <th>en cours de deploiement</th>\n",
       "      <th>raccordable demande</th>\n",
       "      <th>signe</th>\n",
       "    </tr>\n",
       "    <tr>\n",
       "      <th>COM</th>\n",
       "      <th></th>\n",
       "      <th></th>\n",
       "      <th></th>\n",
       "      <th></th>\n",
       "      <th></th>\n",
       "      <th></th>\n",
       "    </tr>\n",
       "  </thead>\n",
       "  <tbody>\n",
       "    <tr>\n",
       "      <th>97401</th>\n",
       "      <td>NaN</td>\n",
       "      <td>0.018800</td>\n",
       "      <td>0.973807</td>\n",
       "      <td>0.000422</td>\n",
       "      <td>NaN</td>\n",
       "      <td>0.006971</td>\n",
       "    </tr>\n",
       "    <tr>\n",
       "      <th>97402</th>\n",
       "      <td>NaN</td>\n",
       "      <td>NaN</td>\n",
       "      <td>0.960644</td>\n",
       "      <td>0.039356</td>\n",
       "      <td>NaN</td>\n",
       "      <td>NaN</td>\n",
       "    </tr>\n",
       "    <tr>\n",
       "      <th>97403</th>\n",
       "      <td>NaN</td>\n",
       "      <td>0.009105</td>\n",
       "      <td>0.989639</td>\n",
       "      <td>NaN</td>\n",
       "      <td>NaN</td>\n",
       "      <td>0.001256</td>\n",
       "    </tr>\n",
       "    <tr>\n",
       "      <th>97404</th>\n",
       "      <td>NaN</td>\n",
       "      <td>0.155727</td>\n",
       "      <td>0.834964</td>\n",
       "      <td>0.008362</td>\n",
       "      <td>NaN</td>\n",
       "      <td>0.000947</td>\n",
       "    </tr>\n",
       "    <tr>\n",
       "      <th>97405</th>\n",
       "      <td>NaN</td>\n",
       "      <td>0.111237</td>\n",
       "      <td>0.886330</td>\n",
       "      <td>0.000162</td>\n",
       "      <td>NaN</td>\n",
       "      <td>0.002270</td>\n",
       "    </tr>\n",
       "    <tr>\n",
       "      <th>97406</th>\n",
       "      <td>NaN</td>\n",
       "      <td>NaN</td>\n",
       "      <td>0.979058</td>\n",
       "      <td>0.020942</td>\n",
       "      <td>NaN</td>\n",
       "      <td>NaN</td>\n",
       "    </tr>\n",
       "    <tr>\n",
       "      <th>97407</th>\n",
       "      <td>NaN</td>\n",
       "      <td>0.084784</td>\n",
       "      <td>0.781236</td>\n",
       "      <td>0.128849</td>\n",
       "      <td>NaN</td>\n",
       "      <td>0.005132</td>\n",
       "    </tr>\n",
       "    <tr>\n",
       "      <th>97408</th>\n",
       "      <td>0.000049</td>\n",
       "      <td>0.131176</td>\n",
       "      <td>0.852421</td>\n",
       "      <td>0.013211</td>\n",
       "      <td>NaN</td>\n",
       "      <td>0.003143</td>\n",
       "    </tr>\n",
       "    <tr>\n",
       "      <th>97409</th>\n",
       "      <td>0.114885</td>\n",
       "      <td>0.004240</td>\n",
       "      <td>0.846067</td>\n",
       "      <td>0.032426</td>\n",
       "      <td>NaN</td>\n",
       "      <td>0.002382</td>\n",
       "    </tr>\n",
       "    <tr>\n",
       "      <th>97410</th>\n",
       "      <td>NaN</td>\n",
       "      <td>0.019811</td>\n",
       "      <td>0.949470</td>\n",
       "      <td>0.026450</td>\n",
       "      <td>NaN</td>\n",
       "      <td>0.004268</td>\n",
       "    </tr>\n",
       "    <tr>\n",
       "      <th>97411</th>\n",
       "      <td>0.000159</td>\n",
       "      <td>0.058830</td>\n",
       "      <td>0.889287</td>\n",
       "      <td>0.045025</td>\n",
       "      <td>NaN</td>\n",
       "      <td>0.006698</td>\n",
       "    </tr>\n",
       "    <tr>\n",
       "      <th>97412</th>\n",
       "      <td>NaN</td>\n",
       "      <td>0.040012</td>\n",
       "      <td>0.892755</td>\n",
       "      <td>0.067232</td>\n",
       "      <td>NaN</td>\n",
       "      <td>NaN</td>\n",
       "    </tr>\n",
       "    <tr>\n",
       "      <th>97413</th>\n",
       "      <td>0.000328</td>\n",
       "      <td>0.014438</td>\n",
       "      <td>0.977031</td>\n",
       "      <td>0.000591</td>\n",
       "      <td>0.000328</td>\n",
       "      <td>0.007284</td>\n",
       "    </tr>\n",
       "    <tr>\n",
       "      <th>97414</th>\n",
       "      <td>NaN</td>\n",
       "      <td>0.216665</td>\n",
       "      <td>0.739731</td>\n",
       "      <td>0.042107</td>\n",
       "      <td>NaN</td>\n",
       "      <td>0.001497</td>\n",
       "    </tr>\n",
       "    <tr>\n",
       "      <th>97415</th>\n",
       "      <td>0.000558</td>\n",
       "      <td>0.036221</td>\n",
       "      <td>0.938516</td>\n",
       "      <td>0.021664</td>\n",
       "      <td>NaN</td>\n",
       "      <td>0.003041</td>\n",
       "    </tr>\n",
       "    <tr>\n",
       "      <th>97416</th>\n",
       "      <td>0.007298</td>\n",
       "      <td>0.037460</td>\n",
       "      <td>0.940920</td>\n",
       "      <td>0.012379</td>\n",
       "      <td>NaN</td>\n",
       "      <td>0.001944</td>\n",
       "    </tr>\n",
       "    <tr>\n",
       "      <th>97417</th>\n",
       "      <td>NaN</td>\n",
       "      <td>NaN</td>\n",
       "      <td>0.997081</td>\n",
       "      <td>NaN</td>\n",
       "      <td>NaN</td>\n",
       "      <td>0.002919</td>\n",
       "    </tr>\n",
       "    <tr>\n",
       "      <th>97418</th>\n",
       "      <td>NaN</td>\n",
       "      <td>0.062242</td>\n",
       "      <td>0.912375</td>\n",
       "      <td>0.024987</td>\n",
       "      <td>NaN</td>\n",
       "      <td>0.000396</td>\n",
       "    </tr>\n",
       "    <tr>\n",
       "      <th>97419</th>\n",
       "      <td>NaN</td>\n",
       "      <td>0.002533</td>\n",
       "      <td>0.997467</td>\n",
       "      <td>NaN</td>\n",
       "      <td>NaN</td>\n",
       "      <td>NaN</td>\n",
       "    </tr>\n",
       "    <tr>\n",
       "      <th>97420</th>\n",
       "      <td>NaN</td>\n",
       "      <td>NaN</td>\n",
       "      <td>0.962255</td>\n",
       "      <td>0.037745</td>\n",
       "      <td>NaN</td>\n",
       "      <td>NaN</td>\n",
       "    </tr>\n",
       "    <tr>\n",
       "      <th>97421</th>\n",
       "      <td>NaN</td>\n",
       "      <td>0.005655</td>\n",
       "      <td>0.994345</td>\n",
       "      <td>NaN</td>\n",
       "      <td>NaN</td>\n",
       "      <td>NaN</td>\n",
       "    </tr>\n",
       "    <tr>\n",
       "      <th>97422</th>\n",
       "      <td>0.000094</td>\n",
       "      <td>0.010188</td>\n",
       "      <td>0.981217</td>\n",
       "      <td>0.001781</td>\n",
       "      <td>0.004438</td>\n",
       "      <td>0.002281</td>\n",
       "    </tr>\n",
       "    <tr>\n",
       "      <th>97423</th>\n",
       "      <td>NaN</td>\n",
       "      <td>NaN</td>\n",
       "      <td>0.901961</td>\n",
       "      <td>0.098039</td>\n",
       "      <td>NaN</td>\n",
       "      <td>NaN</td>\n",
       "    </tr>\n",
       "    <tr>\n",
       "      <th>97424</th>\n",
       "      <td>NaN</td>\n",
       "      <td>0.235759</td>\n",
       "      <td>0.764241</td>\n",
       "      <td>NaN</td>\n",
       "      <td>NaN</td>\n",
       "      <td>NaN</td>\n",
       "    </tr>\n",
       "  </tbody>\n",
       "</table>\n",
       "</div>"
      ],
      "text/plain": [
       "imb_etat  abandonne     cible   deploye  en cours de deploiement  \\\n",
       "COM                                                                \n",
       "97401           NaN  0.018800  0.973807                 0.000422   \n",
       "97402           NaN       NaN  0.960644                 0.039356   \n",
       "97403           NaN  0.009105  0.989639                      NaN   \n",
       "97404           NaN  0.155727  0.834964                 0.008362   \n",
       "97405           NaN  0.111237  0.886330                 0.000162   \n",
       "97406           NaN       NaN  0.979058                 0.020942   \n",
       "97407           NaN  0.084784  0.781236                 0.128849   \n",
       "97408      0.000049  0.131176  0.852421                 0.013211   \n",
       "97409      0.114885  0.004240  0.846067                 0.032426   \n",
       "97410           NaN  0.019811  0.949470                 0.026450   \n",
       "97411      0.000159  0.058830  0.889287                 0.045025   \n",
       "97412           NaN  0.040012  0.892755                 0.067232   \n",
       "97413      0.000328  0.014438  0.977031                 0.000591   \n",
       "97414           NaN  0.216665  0.739731                 0.042107   \n",
       "97415      0.000558  0.036221  0.938516                 0.021664   \n",
       "97416      0.007298  0.037460  0.940920                 0.012379   \n",
       "97417           NaN       NaN  0.997081                      NaN   \n",
       "97418           NaN  0.062242  0.912375                 0.024987   \n",
       "97419           NaN  0.002533  0.997467                      NaN   \n",
       "97420           NaN       NaN  0.962255                 0.037745   \n",
       "97421           NaN  0.005655  0.994345                      NaN   \n",
       "97422      0.000094  0.010188  0.981217                 0.001781   \n",
       "97423           NaN       NaN  0.901961                 0.098039   \n",
       "97424           NaN  0.235759  0.764241                      NaN   \n",
       "\n",
       "imb_etat  raccordable demande     signe  \n",
       "COM                                      \n",
       "97401                     NaN  0.006971  \n",
       "97402                     NaN       NaN  \n",
       "97403                     NaN  0.001256  \n",
       "97404                     NaN  0.000947  \n",
       "97405                     NaN  0.002270  \n",
       "97406                     NaN       NaN  \n",
       "97407                     NaN  0.005132  \n",
       "97408                     NaN  0.003143  \n",
       "97409                     NaN  0.002382  \n",
       "97410                     NaN  0.004268  \n",
       "97411                     NaN  0.006698  \n",
       "97412                     NaN       NaN  \n",
       "97413                0.000328  0.007284  \n",
       "97414                     NaN  0.001497  \n",
       "97415                     NaN  0.003041  \n",
       "97416                     NaN  0.001944  \n",
       "97417                     NaN  0.002919  \n",
       "97418                     NaN  0.000396  \n",
       "97419                     NaN       NaN  \n",
       "97420                     NaN       NaN  \n",
       "97421                     NaN       NaN  \n",
       "97422                0.004438  0.002281  \n",
       "97423                     NaN       NaN  \n",
       "97424                     NaN       NaN  "
      ]
     },
     "execution_count": 71,
     "metadata": {},
     "output_type": "execute_result"
    }
   ],
   "source": [
    "fiber_and_commune_data[[\"COM\", 'imb_etat']].groupby('COM').value_counts().unstack()\n",
    "fiber_and_commune_data[[\"COM\", 'imb_etat']].groupby('COM').value_counts(normalize=True).unstack()"
   ]
  },
  {
   "cell_type": "code",
   "execution_count": 68,
   "id": "07c114f7-d062-40a8-b32e-8feb1240860f",
   "metadata": {},
   "outputs": [
    {
     "data": {
      "text/plain": [
       "COM\n",
       "97401     4734.0\n",
       "97402     4345.0\n",
       "97403     3185.0\n",
       "97404     6338.0\n",
       "97405     6167.0\n",
       "97406     3820.0\n",
       "97407     8964.0\n",
       "97408    20362.0\n",
       "97409    24764.0\n",
       "97410    18979.0\n",
       "97411    44042.0\n",
       "97412    16495.0\n",
       "97413    15238.0\n",
       "97414    21374.0\n",
       "97415    55575.0\n",
       "97416    58649.0\n",
       "97417     2398.0\n",
       "97418    17689.0\n",
       "97419     2763.0\n",
       "97420     8372.0\n",
       "97421     3360.0\n",
       "97422    31997.0\n",
       "97423     3111.0\n",
       "97424     3037.0\n",
       "dtype: float64"
      ]
     },
     "execution_count": 68,
     "metadata": {},
     "output_type": "execute_result"
    }
   ],
   "source": [
    "fiber_and_commune_data[[\"COM\", 'imb_etat']].groupby('COM').value_counts().unstack().sum(axis=1)"
   ]
  },
  {
   "cell_type": "code",
   "execution_count": 10,
   "id": "da95412e-3878-4fec-b00a-9dc9947c161b",
   "metadata": {},
   "outputs": [
    {
     "name": "stdout",
     "output_type": "stream",
     "text": [
      "ban\t\t   Challenge.pdf  fiber.csv\t\t LICENSE\n",
      "ban.csv\t\t   commune.csv\t  filter_cog.py\t\t README.md\n",
      "ban_csv_search.py  fiber\t  join_commune_fiber.py  Untitled.ipynb\n"
     ]
    }
   ],
   "source": [
    "df = "
   ]
  },
  {
   "cell_type": "code",
   "execution_count": 14,
   "id": "3e562788-de94-4bff-85d2-e769c80c8231",
   "metadata": {},
   "outputs": [
    {
     "ename": "ValueError",
     "evalue": "The truth value of a DataFrame is ambiguous. Use a.empty, a.bool(), a.item(), a.any() or a.all().",
     "output_type": "error",
     "traceback": [
      "\u001b[0;31m---------------------------------------------------------------------------\u001b[0m",
      "\u001b[0;31mValueError\u001b[0m                                Traceback (most recent call last)",
      "Cell \u001b[0;32mIn[14], line 1\u001b[0m\n\u001b[0;32m----> 1\u001b[0m \u001b[43mget_ipython\u001b[49m\u001b[43m(\u001b[49m\u001b[43m)\u001b[49m\u001b[38;5;241;43m.\u001b[39;49m\u001b[43mrun_line_magic\u001b[49m\u001b[43m(\u001b[49m\u001b[38;5;124;43m'\u001b[39;49m\u001b[38;5;124;43mpinfo\u001b[39;49m\u001b[38;5;124;43m'\u001b[39;49m\u001b[43m,\u001b[49m\u001b[43m \u001b[49m\u001b[38;5;124;43m'\u001b[39;49m\u001b[38;5;124;43mdf.join\u001b[39;49m\u001b[38;5;124;43m'\u001b[39;49m\u001b[43m)\u001b[49m\n",
      "File \u001b[0;32m~/Data/myenv/lib/python3.10/site-packages/IPython/core/interactiveshell.py:2414\u001b[0m, in \u001b[0;36mInteractiveShell.run_line_magic\u001b[0;34m(self, magic_name, line, _stack_depth)\u001b[0m\n\u001b[1;32m   2412\u001b[0m     kwargs[\u001b[38;5;124m'\u001b[39m\u001b[38;5;124mlocal_ns\u001b[39m\u001b[38;5;124m'\u001b[39m] \u001b[38;5;241m=\u001b[39m \u001b[38;5;28mself\u001b[39m\u001b[38;5;241m.\u001b[39mget_local_scope(stack_depth)\n\u001b[1;32m   2413\u001b[0m \u001b[38;5;28;01mwith\u001b[39;00m \u001b[38;5;28mself\u001b[39m\u001b[38;5;241m.\u001b[39mbuiltin_trap:\n\u001b[0;32m-> 2414\u001b[0m     result \u001b[38;5;241m=\u001b[39m \u001b[43mfn\u001b[49m\u001b[43m(\u001b[49m\u001b[38;5;241;43m*\u001b[39;49m\u001b[43margs\u001b[49m\u001b[43m,\u001b[49m\u001b[43m \u001b[49m\u001b[38;5;241;43m*\u001b[39;49m\u001b[38;5;241;43m*\u001b[39;49m\u001b[43mkwargs\u001b[49m\u001b[43m)\u001b[49m\n\u001b[1;32m   2416\u001b[0m \u001b[38;5;66;03m# The code below prevents the output from being displayed\u001b[39;00m\n\u001b[1;32m   2417\u001b[0m \u001b[38;5;66;03m# when using magics with decodator @output_can_be_silenced\u001b[39;00m\n\u001b[1;32m   2418\u001b[0m \u001b[38;5;66;03m# when the last Python token in the expression is a ';'.\u001b[39;00m\n\u001b[1;32m   2419\u001b[0m \u001b[38;5;28;01mif\u001b[39;00m \u001b[38;5;28mgetattr\u001b[39m(fn, magic\u001b[38;5;241m.\u001b[39mMAGIC_OUTPUT_CAN_BE_SILENCED, \u001b[38;5;28;01mFalse\u001b[39;00m):\n",
      "File \u001b[0;32m~/Data/myenv/lib/python3.10/site-packages/IPython/core/magics/namespace.py:58\u001b[0m, in \u001b[0;36mNamespaceMagics.pinfo\u001b[0;34m(self, parameter_s, namespaces)\u001b[0m\n\u001b[1;32m     56\u001b[0m     \u001b[38;5;28mself\u001b[39m\u001b[38;5;241m.\u001b[39mpsearch(oname)\n\u001b[1;32m     57\u001b[0m \u001b[38;5;28;01melse\u001b[39;00m:\n\u001b[0;32m---> 58\u001b[0m     \u001b[38;5;28;43mself\u001b[39;49m\u001b[38;5;241;43m.\u001b[39;49m\u001b[43mshell\u001b[49m\u001b[38;5;241;43m.\u001b[39;49m\u001b[43m_inspect\u001b[49m\u001b[43m(\u001b[49m\u001b[38;5;124;43m'\u001b[39;49m\u001b[38;5;124;43mpinfo\u001b[39;49m\u001b[38;5;124;43m'\u001b[39;49m\u001b[43m,\u001b[49m\u001b[43m \u001b[49m\u001b[43moname\u001b[49m\u001b[43m,\u001b[49m\u001b[43m \u001b[49m\u001b[43mdetail_level\u001b[49m\u001b[38;5;241;43m=\u001b[39;49m\u001b[43mdetail_level\u001b[49m\u001b[43m,\u001b[49m\n\u001b[1;32m     59\u001b[0m \u001b[43m                        \u001b[49m\u001b[43mnamespaces\u001b[49m\u001b[38;5;241;43m=\u001b[39;49m\u001b[43mnamespaces\u001b[49m\u001b[43m)\u001b[49m\n",
      "File \u001b[0;32m~/Data/myenv/lib/python3.10/site-packages/IPython/core/interactiveshell.py:1795\u001b[0m, in \u001b[0;36mInteractiveShell._inspect\u001b[0;34m(self, meth, oname, namespaces, **kw)\u001b[0m\n\u001b[1;32m   1793\u001b[0m     pmethod(info\u001b[38;5;241m.\u001b[39mobj, oname, formatter)\n\u001b[1;32m   1794\u001b[0m \u001b[38;5;28;01melif\u001b[39;00m meth \u001b[38;5;241m==\u001b[39m \u001b[38;5;124m'\u001b[39m\u001b[38;5;124mpinfo\u001b[39m\u001b[38;5;124m'\u001b[39m:\n\u001b[0;32m-> 1795\u001b[0m     \u001b[43mpmethod\u001b[49m\u001b[43m(\u001b[49m\n\u001b[1;32m   1796\u001b[0m \u001b[43m        \u001b[49m\u001b[43minfo\u001b[49m\u001b[38;5;241;43m.\u001b[39;49m\u001b[43mobj\u001b[49m\u001b[43m,\u001b[49m\n\u001b[1;32m   1797\u001b[0m \u001b[43m        \u001b[49m\u001b[43moname\u001b[49m\u001b[43m,\u001b[49m\n\u001b[1;32m   1798\u001b[0m \u001b[43m        \u001b[49m\u001b[43mformatter\u001b[49m\u001b[43m,\u001b[49m\n\u001b[1;32m   1799\u001b[0m \u001b[43m        \u001b[49m\u001b[43minfo\u001b[49m\u001b[43m,\u001b[49m\n\u001b[1;32m   1800\u001b[0m \u001b[43m        \u001b[49m\u001b[43menable_html_pager\u001b[49m\u001b[38;5;241;43m=\u001b[39;49m\u001b[38;5;28;43mself\u001b[39;49m\u001b[38;5;241;43m.\u001b[39;49m\u001b[43menable_html_pager\u001b[49m\u001b[43m,\u001b[49m\n\u001b[1;32m   1801\u001b[0m \u001b[43m        \u001b[49m\u001b[38;5;241;43m*\u001b[39;49m\u001b[38;5;241;43m*\u001b[39;49m\u001b[43mkw\u001b[49m\u001b[43m,\u001b[49m\n\u001b[1;32m   1802\u001b[0m \u001b[43m    \u001b[49m\u001b[43m)\u001b[49m\n\u001b[1;32m   1803\u001b[0m \u001b[38;5;28;01melse\u001b[39;00m:\n\u001b[1;32m   1804\u001b[0m     pmethod(info\u001b[38;5;241m.\u001b[39mobj, oname)\n",
      "File \u001b[0;32m~/Data/myenv/lib/python3.10/site-packages/IPython/core/oinspect.py:782\u001b[0m, in \u001b[0;36mInspector.pinfo\u001b[0;34m(self, obj, oname, formatter, info, detail_level, enable_html_pager, omit_sections)\u001b[0m\n\u001b[1;32m    758\u001b[0m \u001b[38;5;250m\u001b[39m\u001b[38;5;124;03m\"\"\"Show detailed information about an object.\u001b[39;00m\n\u001b[1;32m    759\u001b[0m \n\u001b[1;32m    760\u001b[0m \u001b[38;5;124;03mOptional arguments:\u001b[39;00m\n\u001b[0;32m   (...)\u001b[0m\n\u001b[1;32m    779\u001b[0m \u001b[38;5;124;03m- omit_sections: set of section keys and titles to omit\u001b[39;00m\n\u001b[1;32m    780\u001b[0m \u001b[38;5;124;03m\"\"\"\u001b[39;00m\n\u001b[1;32m    781\u001b[0m \u001b[38;5;28;01massert\u001b[39;00m info \u001b[38;5;129;01mis\u001b[39;00m \u001b[38;5;129;01mnot\u001b[39;00m \u001b[38;5;28;01mNone\u001b[39;00m\n\u001b[0;32m--> 782\u001b[0m info_b: Bundle \u001b[38;5;241m=\u001b[39m \u001b[38;5;28;43mself\u001b[39;49m\u001b[38;5;241;43m.\u001b[39;49m\u001b[43m_get_info\u001b[49m\u001b[43m(\u001b[49m\n\u001b[1;32m    783\u001b[0m \u001b[43m    \u001b[49m\u001b[43mobj\u001b[49m\u001b[43m,\u001b[49m\u001b[43m \u001b[49m\u001b[43moname\u001b[49m\u001b[43m,\u001b[49m\u001b[43m \u001b[49m\u001b[43mformatter\u001b[49m\u001b[43m,\u001b[49m\u001b[43m \u001b[49m\u001b[43minfo\u001b[49m\u001b[43m,\u001b[49m\u001b[43m \u001b[49m\u001b[43mdetail_level\u001b[49m\u001b[43m,\u001b[49m\u001b[43m \u001b[49m\u001b[43momit_sections\u001b[49m\u001b[38;5;241;43m=\u001b[39;49m\u001b[43momit_sections\u001b[49m\n\u001b[1;32m    784\u001b[0m \u001b[43m\u001b[49m\u001b[43m)\u001b[49m\n\u001b[1;32m    785\u001b[0m \u001b[38;5;28;01mif\u001b[39;00m \u001b[38;5;129;01mnot\u001b[39;00m enable_html_pager:\n\u001b[1;32m    786\u001b[0m     \u001b[38;5;28;01mdel\u001b[39;00m info_b[\u001b[38;5;124m\"\u001b[39m\u001b[38;5;124mtext/html\u001b[39m\u001b[38;5;124m\"\u001b[39m]\n",
      "File \u001b[0;32m~/Data/myenv/lib/python3.10/site-packages/IPython/core/oinspect.py:738\u001b[0m, in \u001b[0;36mInspector._get_info\u001b[0;34m(self, obj, oname, formatter, info, detail_level, omit_sections)\u001b[0m\n\u001b[1;32m    712\u001b[0m \u001b[38;5;28;01mdef\u001b[39;00m \u001b[38;5;21m_get_info\u001b[39m(\n\u001b[1;32m    713\u001b[0m     \u001b[38;5;28mself\u001b[39m,\n\u001b[1;32m    714\u001b[0m     obj: Any,\n\u001b[0;32m   (...)\u001b[0m\n\u001b[1;32m    719\u001b[0m     omit_sections\u001b[38;5;241m=\u001b[39m(),\n\u001b[1;32m    720\u001b[0m ) \u001b[38;5;241m-\u001b[39m\u001b[38;5;241m>\u001b[39m Bundle:\n\u001b[1;32m    721\u001b[0m \u001b[38;5;250m    \u001b[39m\u001b[38;5;124;03m\"\"\"Retrieve an info dict and format it.\u001b[39;00m\n\u001b[1;32m    722\u001b[0m \n\u001b[1;32m    723\u001b[0m \u001b[38;5;124;03m    Parameters\u001b[39;00m\n\u001b[0;32m   (...)\u001b[0m\n\u001b[1;32m    735\u001b[0m \u001b[38;5;124;03m        Titles or keys to omit from output (can be set, tuple, etc., anything supporting `in`)\u001b[39;00m\n\u001b[1;32m    736\u001b[0m \u001b[38;5;124;03m    \"\"\"\u001b[39;00m\n\u001b[0;32m--> 738\u001b[0m     info_dict \u001b[38;5;241m=\u001b[39m \u001b[38;5;28;43mself\u001b[39;49m\u001b[38;5;241;43m.\u001b[39;49m\u001b[43minfo\u001b[49m\u001b[43m(\u001b[49m\u001b[43mobj\u001b[49m\u001b[43m,\u001b[49m\u001b[43m \u001b[49m\u001b[43moname\u001b[49m\u001b[38;5;241;43m=\u001b[39;49m\u001b[43moname\u001b[49m\u001b[43m,\u001b[49m\u001b[43m \u001b[49m\u001b[43minfo\u001b[49m\u001b[38;5;241;43m=\u001b[39;49m\u001b[43minfo\u001b[49m\u001b[43m,\u001b[49m\u001b[43m \u001b[49m\u001b[43mdetail_level\u001b[49m\u001b[38;5;241;43m=\u001b[39;49m\u001b[43mdetail_level\u001b[49m\u001b[43m)\u001b[49m\n\u001b[1;32m    739\u001b[0m     bundle \u001b[38;5;241m=\u001b[39m \u001b[38;5;28mself\u001b[39m\u001b[38;5;241m.\u001b[39m_make_info_unformatted(\n\u001b[1;32m    740\u001b[0m         obj,\n\u001b[1;32m    741\u001b[0m         info_dict,\n\u001b[0;32m   (...)\u001b[0m\n\u001b[1;32m    744\u001b[0m         omit_sections\u001b[38;5;241m=\u001b[39momit_sections,\n\u001b[1;32m    745\u001b[0m     )\n\u001b[1;32m    746\u001b[0m     \u001b[38;5;28;01mreturn\u001b[39;00m \u001b[38;5;28mself\u001b[39m\u001b[38;5;241m.\u001b[39mformat_mime(bundle)\n",
      "File \u001b[0;32m~/Data/myenv/lib/python3.10/site-packages/IPython/core/oinspect.py:838\u001b[0m, in \u001b[0;36mInspector.info\u001b[0;34m(self, obj, oname, info, detail_level)\u001b[0m\n\u001b[1;32m    836\u001b[0m parents_docs \u001b[38;5;241m=\u001b[39m \u001b[38;5;28;01mNone\u001b[39;00m\n\u001b[1;32m    837\u001b[0m prelude \u001b[38;5;241m=\u001b[39m \u001b[38;5;124m\"\u001b[39m\u001b[38;5;124m\"\u001b[39m\n\u001b[0;32m--> 838\u001b[0m \u001b[38;5;28;01mif\u001b[39;00m info \u001b[38;5;129;01mand\u001b[39;00m info\u001b[38;5;241m.\u001b[39mparent \u001b[38;5;129;01mand\u001b[39;00m \u001b[38;5;28mhasattr\u001b[39m(info\u001b[38;5;241m.\u001b[39mparent, HOOK_NAME):\n\u001b[1;32m    839\u001b[0m     parents_docs_dict \u001b[38;5;241m=\u001b[39m \u001b[38;5;28mgetattr\u001b[39m(info\u001b[38;5;241m.\u001b[39mparent, HOOK_NAME)\n\u001b[1;32m    840\u001b[0m     parents_docs \u001b[38;5;241m=\u001b[39m parents_docs_dict\u001b[38;5;241m.\u001b[39mget(att_name, \u001b[38;5;28;01mNone\u001b[39;00m)\n",
      "File \u001b[0;32m~/Data/myenv/lib/python3.10/site-packages/pandas/core/generic.py:1466\u001b[0m, in \u001b[0;36mNDFrame.__nonzero__\u001b[0;34m(self)\u001b[0m\n\u001b[1;32m   1464\u001b[0m \u001b[38;5;129m@final\u001b[39m\n\u001b[1;32m   1465\u001b[0m \u001b[38;5;28;01mdef\u001b[39;00m \u001b[38;5;21m__nonzero__\u001b[39m(\u001b[38;5;28mself\u001b[39m) \u001b[38;5;241m-\u001b[39m\u001b[38;5;241m>\u001b[39m NoReturn:\n\u001b[0;32m-> 1466\u001b[0m     \u001b[38;5;28;01mraise\u001b[39;00m \u001b[38;5;167;01mValueError\u001b[39;00m(\n\u001b[1;32m   1467\u001b[0m         \u001b[38;5;124mf\u001b[39m\u001b[38;5;124m\"\u001b[39m\u001b[38;5;124mThe truth value of a \u001b[39m\u001b[38;5;132;01m{\u001b[39;00m\u001b[38;5;28mtype\u001b[39m(\u001b[38;5;28mself\u001b[39m)\u001b[38;5;241m.\u001b[39m\u001b[38;5;18m__name__\u001b[39m\u001b[38;5;132;01m}\u001b[39;00m\u001b[38;5;124m is ambiguous. \u001b[39m\u001b[38;5;124m\"\u001b[39m\n\u001b[1;32m   1468\u001b[0m         \u001b[38;5;124m\"\u001b[39m\u001b[38;5;124mUse a.empty, a.bool(), a.item(), a.any() or a.all().\u001b[39m\u001b[38;5;124m\"\u001b[39m\n\u001b[1;32m   1469\u001b[0m     )\n",
      "\u001b[0;31mValueError\u001b[0m: The truth value of a DataFrame is ambiguous. Use a.empty, a.bool(), a.item(), a.any() or a.all()."
     ]
    }
   ],
   "source": [
    "Data.join()"
   ]
  },
  {
   "cell_type": "code",
   "execution_count": null,
   "id": "6f800f0d-4b8d-4ad7-8642-666366d56e20",
   "metadata": {},
   "outputs": [],
   "source": []
  }
 ],
 "metadata": {
  "kernelspec": {
   "display_name": "Python 3 (ipykernel)",
   "language": "python",
   "name": "python3"
  },
  "language_info": {
   "codemirror_mode": {
    "name": "ipython",
    "version": 3
   },
   "file_extension": ".py",
   "mimetype": "text/x-python",
   "name": "python",
   "nbconvert_exporter": "python",
   "pygments_lexer": "ipython3",
   "version": "3.10.12"
  }
 },
 "nbformat": 4,
 "nbformat_minor": 5
}
